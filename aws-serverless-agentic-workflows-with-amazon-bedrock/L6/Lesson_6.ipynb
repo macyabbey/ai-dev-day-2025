{
 "cells": [
  {
   "cell_type": "markdown",
   "id": "d2a14d50-e547-4a6a-a1a5-e4c3d8a2d365",
   "metadata": {},
   "source": [
    "# Lesson 6: (UPDATE) Let's get inline and with Amazon Nova.\n",
    "\n",
    "* This works with other models too, but we'll have a try with Amazon Nova."
   ]
  },
  {
   "cell_type": "markdown",
   "id": "c2af05f4-fd9f-4dab-b93a-701bd4aa915f",
   "metadata": {},
   "source": [
    "## Preparation \n",
    "<p style=\"background-color:#fff6ff; padding:15px; border-width:3px; border-color:#efe6ef; border-style:solid; border-radius:6px\"> 💻 &nbsp; <b>Access <code>requirements.txt</code> and <code>helper.py</code> and other files:</b> 1) click on the <em>\"File\"</em> option on the top menu of the notebook and then 2) click on <em>\"Open\"</em>. For more help, please see the <em>\"Appendix - Tips and Help\"</em> Lesson.</p>"
   ]
  },
  {
   "cell_type": "code",
   "execution_count": null,
   "id": "2d2f9f93",
   "metadata": {},
   "outputs": [],
   "source": [
    "%autosave 0\n",
    "\n",
    "# %%capture\n",
    "%run ./ro_shared_data/lesson_2_prep.py lesson6\n",
    "\n",
    "import os\n",
    "\n",
    "region_name = 'us-west-2'\n",
    "\n",
    "lambda_function_name = os.environ['LAMBDA_FUNCTION_NAME']\n",
    "lambda_function_arn = os.environ['LAMBDA_FUNCTION_ARN']"
   ]
  },
  {
   "cell_type": "markdown",
   "id": "2f375ad5",
   "metadata": {},
   "source": [
    "## Start of the lesson"
   ]
  },
  {
   "cell_type": "code",
   "execution_count": null,
   "id": "b4c0d8f2",
   "metadata": {},
   "outputs": [],
   "source": [
    "import boto3, uuid"
   ]
  },
  {
   "cell_type": "code",
   "execution_count": null,
   "id": "ce4033e6",
   "metadata": {},
   "outputs": [],
   "source": [
    "bedrock_agent_runtime = boto3.client(service_name='bedrock-agent-runtime', region_name='us-west-2')"
   ]
  },
  {
   "cell_type": "markdown",
   "id": "a1bc8fed",
   "metadata": {},
   "source": [
    "### Amazon Nova"
   ]
  },
  {
   "cell_type": "code",
   "execution_count": null,
   "id": "961f8249",
   "metadata": {},
   "outputs": [],
   "source": [
    "# UPDATE 1 - Meet Amazon Nova\n",
    "\n",
    "# Amazon Nova is a new generation of state-of-the-art foundation models that deliver \n",
    "# frontier intelligence and industry leading price performance, available on Amazon Bedrock. \n",
    "# Amazon Nova models include three understanding and two creative content generation models.\n",
    "\n",
    "# https://docs.aws.amazon.com/nova/latest/userguide/what-is-nova.html\n",
    "\n",
    "foundation_model = 'us.amazon.nova-lite-v1:0'"
   ]
  },
  {
   "cell_type": "markdown",
   "id": "499f777c",
   "metadata": {},
   "source": [
    "### Amazon Bedrock Inline Agents\n",
    "\n",
    "You can run this with any model that agents supports, we will take a look at using Amazon Nova."
   ]
  },
  {
   "cell_type": "code",
   "execution_count": null,
   "id": "4d5cbe00",
   "metadata": {},
   "outputs": [],
   "source": [
    "# UPDATE 2 - Inline Agents - Conduct rapid experimentation\n",
    "\n",
    "# You can configure and invoke an inline Amazon Bedrock agent dynamically at runtime using \n",
    "# InvokeInlineAgent API. Using an inline agent provides you with flexibility to specify your \n",
    "# agent capabilities like foundation models, instructions, action groups, guardrails, and \n",
    "# knowledge bases at the same time you invoke your agent. You do not need to pre-define \n",
    "# agent capabilities before you can use it.\n",
    "\n",
    "# https://docs.aws.amazon.com/bedrock/latest/userguide/agents-create-inline.html\n",
    "\n",
    "action_groups = [\n",
    "    {\n",
    "        'actionGroupName': 'inline',\n",
    "        'actionGroupExecutor': {\n",
    "            'lambda': lambda_function_arn\n",
    "        },\n",
    "        'functionSchema': {\n",
    "            'functions': [\n",
    "                {\n",
    "                    'name': 'customerId',\n",
    "                    'description': 'Get a customer ID given available details. At least one parameter must be sent to the function. This is private information and must not be given to the user.',\n",
    "                    'parameters': {\n",
    "                        'phone': {'description': 'Phone number', 'required': False, 'type': 'string'},\n",
    "                        'name': {'description': 'Customer name', 'required': False, 'type': 'string'},\n",
    "                        'email': {'description': 'Email address', 'required': False, 'type': 'string'}\n",
    "                    },\n",
    "                    'requireConfirmation': 'DISABLED'\n",
    "                },\n",
    "                {\n",
    "                    'name': 'sendToSupport',\n",
    "                    'description': 'Send a message to the support team, used for service escalation.',\n",
    "                    'parameters': {\n",
    "                        'supportSummary': {'description': 'Summary of the support request', 'required': True, 'type': 'string'},\n",
    "                        'custId': {'description': 'customer ID', 'required': True, 'type': 'string'}\n",
    "                    },\n",
    "                    'requireConfirmation': 'DISABLED'\n",
    "                }\n",
    "            ]\n",
    "        }\n",
    "    }\n",
    "]\n",
    "\n",
    "instruction = \"You are a front line customer support agent for our company. Your role is to process customer messages and route to a human customer support agent if action is required.\\n\\nWhen processing a customer message, follow these guidelines:\\n1. Analyze the customer's message to understand their issue or query.\\n2. Determine the appropriate action based on the nature and severity of the issue.\\n3. Use the appropriate tools to process the request or route it to a human agent if necessary.\\n4. Provide a clear, concise summary of your analysis and actions for internal review.\\n\\nIMPORTANT: Adhere to these strict rules in all interactions:\\n- Never provide information or details that you are not 100% certain are factual and correct.\\n- Do not make assumptions about company policies, procedures, or specific details unless they are explicitly provided to you.\\n- If you are unsure about any aspect of a customer's query or the appropriate response, always route the conversation to a human agent.\\n- When routing to a human agent, provide only the information given by the customer without adding any assumptions or speculations.\\n- If asked about policies, procedures, or specific details that you don't have explicit information about, respond by stating that you'll need to route the query to a human agent for accurate information.\\n- Your primary function is to route queries appropriately, not to provide detailed responses or solve issues directly unless you have been given explicit instructions and information to do so.\"\n",
    "\n",
    "session_id = str(uuid.uuid4())"
   ]
  },
  {
   "cell_type": "code",
   "execution_count": null,
   "id": "a1408668",
   "metadata": {},
   "outputs": [],
   "source": [
    "# invoke_inline_agent\n",
    "# https://boto3.amazonaws.com/v1/documentation/api/latest/reference/services/bedrock-agent-runtime/client/invoke_inline_agent.html\n",
    "\n",
    "input_text = 'My name is Mike (mike@mike.com), my mug is broken and I want a refund.'\n",
    "\n",
    "response = bedrock_agent_runtime.invoke_inline_agent(\n",
    "    actionGroups=action_groups,\n",
    "    enableTrace=True,\n",
    "    endSession=False,\n",
    "    foundationModel=foundation_model,\n",
    "    instruction=instruction,\n",
    "    inputText=input_text,\n",
    "    sessionId=session_id\n",
    ")\n",
    "\n",
    "eventstream = response.get('completion')\n",
    "\n",
    "for event in eventstream:\n",
    "    if 'chunk' in event:\n",
    "        print(event['chunk']['bytes'].decode('utf-8'))\n",
    "    else: \n",
    "        print(\".\", end=\"\")"
   ]
  },
  {
   "cell_type": "code",
   "execution_count": null,
   "id": "2a37d1b4",
   "metadata": {},
   "outputs": [],
   "source": [
    "input_text = 'Thanks, I love your mugs, they are usually so great!'\n",
    "\n",
    "response = bedrock_agent_runtime.invoke_inline_agent(\n",
    "    actionGroups=action_groups,\n",
    "    enableTrace=True,\n",
    "    endSession=False,\n",
    "    foundationModel=foundation_model,\n",
    "    instruction=instruction,\n",
    "    inputText=input_text,\n",
    "    sessionId=session_id\n",
    ")\n",
    "\n",
    "eventstream = response.get('completion')\n",
    "\n",
    "for event in eventstream:\n",
    "    if 'chunk' in event:\n",
    "        print(event['chunk']['bytes'].decode('utf-8'))\n",
    "    else: \n",
    "        print(\".\", end=\"\")"
   ]
  },
  {
   "cell_type": "markdown",
   "id": "a1d2a1ab",
   "metadata": {},
   "source": [
    "# Return Control - Local Tools\n",
    "\n",
    "As well as using Lambda Functions, agents can use tools on your local machine, or somewhere accessible by the client code.  This is called 'return control'.\n",
    "\n",
    "For more details on this you can get the docs [here](https://docs.aws.amazon.com/bedrock/latest/userguide/agents-returncontrol.html?trk=64e03f01-b931-4384-846e-db0ba9fa89f5&sc_channel=el)."
   ]
  },
  {
   "cell_type": "markdown",
   "id": "0cdd5bd5",
   "metadata": {},
   "source": [
    "### What else?\n",
    "\n",
    "With this method we can use it for more than just experimentation.  We could us it to dynamically change the agent's tool capability.\n",
    "\n",
    "See: [Build a dynamic, role-based AI agent using Amazon Bedrock inline agents](https://aws.amazon.com/blogs/machine-learning/build-a-dynamic-role-based-ai-agent-using-amazon-bedrock-inline-agents/?trk=64e03f01-b931-4384-846e-db0ba9fa89f5&sc_channel=el)\n",
    "\n",
    "Code: [Inline Agent HR Assistant](https://github.com/awslabs/amazon-bedrock-agent-samples/tree/main/examples/agents_ux/inline-agent-hr-assistant?trk=64e03f01-b931-4384-846e-db0ba9fa89f5&sc_channel=el)"
   ]
  },
  {
   "cell_type": "markdown",
   "id": "65cb7a52",
   "metadata": {},
   "source": [
    "### AWS Console Link\n",
    "\n",
    "Want to see the AWS Console behind the lesson?  The permissions are limited... but you can get access here: "
   ]
  },
  {
   "cell_type": "code",
   "execution_count": null,
   "id": "bb9eacdc",
   "metadata": {},
   "outputs": [],
   "source": [
    "from IPython.display import HTML\n",
    "\n",
    "console_url = os.environ['AWS_CONSOLE_URL']\n",
    "params = \"&trk=64e03f01-b931-4384-846e-db0ba9fa89f5&sc_channel=el\"\n",
    "full_url = console_url + params\n",
    "\n",
    "HTML(f'<a href=\"{full_url}\" target=\"_blank\">Open AWS Console</a>')"
   ]
  }
 ],
 "metadata": {
  "kernelspec": {
   "display_name": "base",
   "language": "python",
   "name": "python3"
  },
  "language_info": {
   "codemirror_mode": {
    "name": "ipython",
    "version": 3
   },
   "file_extension": ".py",
   "mimetype": "text/x-python",
   "name": "python",
   "nbconvert_exporter": "python",
   "pygments_lexer": "ipython3",
   "version": "3.12.8"
  }
 },
 "nbformat": 4,
 "nbformat_minor": 5
}
